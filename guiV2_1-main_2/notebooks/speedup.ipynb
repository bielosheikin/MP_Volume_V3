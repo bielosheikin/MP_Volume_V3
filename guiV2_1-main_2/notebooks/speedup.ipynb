{
 "cells": [
  {
   "cell_type": "code",
   "execution_count": 7,
   "id": "aae20138-10b0-48c7-96b1-a3ad5989887e",
   "metadata": {},
   "outputs": [],
   "source": [
    "import time"
   ]
  },
  {
   "cell_type": "code",
   "execution_count": 8,
   "id": "731efefb-8bb0-4430-baad-e7ad492d7cb4",
   "metadata": {},
   "outputs": [],
   "source": [
    "from src.trash.simulation_tools import compute_flows, run_simulation\n",
    "import src.trash.nernst_potentials as P"
   ]
  },
  {
   "cell_type": "code",
   "execution_count": 9,
   "id": "8e36a477-01f7-4acd-862b-c769ad70badf",
   "metadata": {},
   "outputs": [],
   "source": [
    "import src.trash.ionic_fluxes as i_flux\n",
    "import src.trash.dep_functions as dep_funct"
   ]
  },
  {
   "cell_type": "markdown",
   "id": "70eb9cc4-2503-4a4e-bab3-3aac91d31e2c",
   "metadata": {},
   "source": [
    "# Old Masha's code"
   ]
  },
  {
   "cell_type": "markdown",
   "id": "9ef6eb3c-146f-49d0-8749-898412639bba",
   "metadata": {},
   "source": [
    "## Some imports turned into plane code"
   ]
  },
  {
   "cell_type": "code",
   "execution_count": 10,
   "id": "2f28d139-7fb5-43b7-b970-f1a1250fd160",
   "metadata": {},
   "outputs": [],
   "source": [
    "import numpy as np\n",
    "\n",
    "# mapping of chemicals to numerical indices used to index the state vectors\n",
    "Cl_idx = 0\n",
    "Na_idx = 1\n",
    "H_idx = 2\n",
    "K_idx = 3\n",
    "\n",
    "number_of_ions = 4\n",
    "T = 1000 # total time (in seconds)\n",
    "dt = 0.001 # duration of integration window (in seconds). Has to be 0.001 or less to make integration stable\n",
    "\n",
    "RT = 2578.5871 # gas constant x temperature in Kelvin\n",
    "F = 96485.0 # Faraday constant\n",
    "c_spec = 0.01  # membrane capacitance per surface area F/(m**2)\n",
    "buffer_capacity_t0=5.0*1e-4 # initial buffer capacity\n",
    "U0 = 40*1e-3 # membrane potential in V \n",
    "\n",
    "r=1.3e-6 # radius of the vesicle in m\n",
    "V0 = (4.0/3.0) * np.pi * (r**3) # Initial volume of the vesicle in m3\n",
    "A0 = 4.0 * np.pi * (r**2) # initial surface area of the vesicle in m2\n",
    "A_from_V_const=(36.0*np.pi)**(1/3) # constant necessary for calculation surface area from the volume\n",
    "\n",
    "C0 = A0 * c_spec # inititial membrane capacitance\n",
    "\n",
    "Cl_o_concentration = 20*1e-3 # external Cl concentraion in M\n",
    "\n",
    "Na_o_concentration=10*1e-3 # external Na concentraion in M\n",
    "Na_i_concentration=150*1e-3 # internal Na concentraion in M\n",
    "\n",
    "K_o_concentration=140*1e-3 # external Cl concentraion in M\n",
    "K_i_concentration=5*1e-3 # internal K concentraion in M\n",
    "\n",
    "pH_o =  7.2 # external pH\n",
    "pH_i =  7.4 # internal pH\n",
    "\n",
    "hfree_o_concentration = 10**(-pH_o) # concentration of free external protons in M\n",
    "hfree_i_concentration = 10**(-pH_i) # concentration of free internal protons in M\n",
    "\n",
    "htotal_o_concentration = hfree_o_concentration/ buffer_capacity_t0 # concentration of total external protons in M\n",
    "htotal_i_concentration = hfree_i_concentration/ buffer_capacity_t0 # concentration of total intenral protons in M\n",
    "\n",
    "htotal_i_amount = htotal_i_concentration*V0*1000 # amount of total internal protons in moles\n",
    "\n",
    "def initialize_internal_concentrations(Cl_i_concentration = 159*1e-3):\n",
    "   \n",
    "    # Cl_i_concentration= 159*1e-3 # internal Cl concentraion in M\n",
    "    # Cl_i_concentration=1*1e-3 # absent internal Cl concentration in M\n",
    "    # Cl_i_concentration= 9*1e-3 # Cl replacement condition (internal Cl concentration in M)\n",
    "\n",
    "    Q0=U0*C0 # initial total charge\n",
    "    X_amount=(Q0/F)-((Na_i_concentration+K_i_concentration+htotal_i_concentration-Cl_i_concentration)*V0*1000) # initial amount of unaccouted ions in moles\n",
    "    X_concentration=X_amount/(V0*1000) # initial concentration of unaccounted ions in moles\n",
    "\n",
    "    internal_ions_amounts=[Cl_i_concentration*V0*1000,  Na_i_concentration*V0*1000, htotal_i_concentration*V0*1000, K_i_concentration*V0*1000] # vector of amounts of ions in moles\n",
    "    external_ions_concentrations = [Cl_o_concentration, Na_o_concentration, htotal_o_concentration, K_o_concentration] # vector of concentrations of external ions\n",
    "    internal_ions_concentrations = [Cl_i_concentration, Na_i_concentration, htotal_i_concentration, K_i_concentration] # vector of concentrations of internal ions\n",
    "\n",
    "    Sum_initial_amounts = internal_ions_amounts[Cl_idx] + internal_ions_amounts[Na_idx] + abs(X_amount) + internal_ions_amounts[K_idx] # sum of amounts of all ions\n",
    "\n",
    "    return X_amount, external_ions_concentrations, internal_ions_amounts, internal_ions_concentrations, Sum_initial_amounts"
   ]
  },
  {
   "cell_type": "code",
   "execution_count": 11,
   "id": "7489996b-a928-4489-9a83-4e64e1316aa5",
   "metadata": {},
   "outputs": [],
   "source": [
    "import argparse\n",
    "\n",
    "G_asor = 8*1e-5\n",
    "G_tpc = 2*1e-6\n",
    "G_k = 0.0\n",
    "G_CLC = 10*1e-8\n",
    "G_NHE = 0.0\n",
    "G_VATPase = 8*1e-9\n",
    "G_H_leak = 16*1e-9\n",
    "\n",
    "def parse_user_input():\n",
    "    \"\"\"\n",
    "    Wrapper for arg-parser used to get the input random seed and save mode\n",
    "    from the user and set defaults if none is provided\n",
    "    \"\"\"\n",
    "\n",
    "    parser = argparse.ArgumentParser()\n",
    "\n",
    "    parser.add_argument('--gasor', '-as', type = float,\n",
    "                help = \"Conductance of ASOR channel\",\n",
    "                dest = \"ASOR\", default=G_asor)\n",
    "    parser.add_argument('--gtpc', '-tpc', type = float,\n",
    "                help = \"Conductance of TPC channel\",\n",
    "                dest = \"TPC\", default=G_tpc)\n",
    "    parser.add_argument('--gk', '-k', type = float,\n",
    "                help = \"Conductance of K channel\",\n",
    "                dest = \"K\", default=G_k)\n",
    "    parser.add_argument('--gclc', '-cl', type = float,\n",
    "                help = \"Conductance of CLC channel\",\n",
    "                dest = \"CLC\", default=G_CLC)\n",
    "    parser.add_argument('--gnhe', '-nhe', type = float,\n",
    "                help = \"Conductance of NHE channel\",\n",
    "                dest = \"NHE\", default=G_NHE)\n",
    "    parser.add_argument('--gvatpase', '-atp', type = float,\n",
    "                help = \"Conductance of v_ATPase channel\",\n",
    "                dest = \"vATPase\", default=G_VATPase)\n",
    "    parser.add_argument('--ghleak', '-hlk', type = float,\n",
    "                help = \"Conductance of H_leak channel\",\n",
    "                dest = \"H_leak\", default=G_H_leak)\n",
    "    parser.add_argument(\"--ASOR_wt_vs_mutant_vs_none\", \"-wtmt\", type = str,\n",
    "                help = \"Type of ASOR channel: wildtype (wt) vs. mutant (mt)\", choices=['wt', 'mt', 'none'],\n",
    "                dest = \"ASOR_pH_dep\", default=\"wt\")\n",
    "    parser.add_argument(\"--ASOR_U_dep\", \"-audep\", type = str,\n",
    "                help = \"ASOR voltage dependency: wildtype (yes) vs. absent (no)\", choices=['yes', 'no'],\n",
    "                dest = \"ASOR_U_dep\", default=\"yes\")\n",
    "    parser.add_argument(\"--CLC_dep\", \"-cdep\", type = str,\n",
    "                help = \"CLC voltage and pH dependency: present (yes) vs. absent (no)\", choices=['yes', 'no'],\n",
    "                dest = \"CLC_dep\", default=\"yes\")\n",
    "    parser.add_argument(\"--Cli_concentration\", \"-cli\", type = str,\n",
    "                help = \"Initial internal cloride concentration high, low, zero\",\n",
    "                choices = ['high', 'low', 'zero'],\n",
    "                dest = \"Cl_i\", default=\"high\")\n",
    "\n",
    "    arg_dictionary = parser.parse_args([])\n",
    "\n",
    "    G = {}\n",
    "    G['ASOR'] = arg_dictionary.ASOR\n",
    "    G['TPC'] = arg_dictionary.TPC\n",
    "    G['K'] = arg_dictionary.K\n",
    "    G['CLC'] = arg_dictionary.CLC\n",
    "    G['NHE'] = arg_dictionary.NHE\n",
    "    G['vATPase'] = arg_dictionary.vATPase\n",
    "    G['H_leak'] = arg_dictionary.H_leak\n",
    "\n",
    "    ASOR_args = {}\n",
    "    if arg_dictionary.ASOR_pH_dep == 'wt':\n",
    "        ASOR_args['ASOR_pH_k2'] = 3.0\n",
    "        ASOR_args['ASOR_pH_half'] = 5.4\n",
    "    elif arg_dictionary.ASOR_pH_dep == 'mt':\n",
    "        ASOR_args['ASOR_pH_k2'] = 1.0\n",
    "        ASOR_args['ASOR_pH_half'] = 7.4\n",
    "    elif arg_dictionary.ASOR_pH_dep == 'none':\n",
    "        ASOR_args['ASOR_pH_k2'] = 0.0\n",
    "        ASOR_args['ASOR_pH_half'] = 0.0\n",
    "\n",
    "    if arg_dictionary.ASOR_U_dep == 'yes':\n",
    "        ASOR_args['ASOR_U_k2'] = 80.0\n",
    "        ASOR_args['ASOR_U_half'] = -40*1e-3\n",
    "    elif arg_dictionary.ASOR_U_dep == 'no':\n",
    "        ASOR_args['ASOR_U_k2'] = 0.0\n",
    "        ASOR_args['ASOR_U_half'] = 0.0\n",
    "\n",
    "    CLC_args = {}\n",
    "    if arg_dictionary.CLC_dep == 'yes':\n",
    "        CLC_args['CLC_pH_k2'] = 1.5\n",
    "        CLC_args['CLC_pH_half'] = 5.5\n",
    "        CLC_args['CLC_U_k2'] = 80.0\n",
    "        CLC_args['CLC_U_half'] = -40*1e-3\n",
    "    elif arg_dictionary.CLC_dep == 'no':\n",
    "        CLC_args['CLC_pH_k2'] = 0\n",
    "        CLC_args['CLC_pH_half'] = 0\n",
    "        CLC_args['CLC_U_k2'] = 0\n",
    "        CLC_args['CLC_U_half'] = 0\n",
    "\n",
    "    if arg_dictionary.Cl_i == 'high':\n",
    "        Cl_i_concentration = 159*1e-3\n",
    "    elif arg_dictionary.Cl_i == 'low':\n",
    "        Cl_i_concentration = 9*1e-3\n",
    "    elif arg_dictionary.Cl_i == 'zero':\n",
    "        Cl_i_concentration = 1*1e-3\n",
    "\n",
    "    return G, ASOR_args, CLC_args, Cl_i_concentration"
   ]
  },
  {
   "cell_type": "markdown",
   "id": "39989138-7882-4383-9fd5-6ea9195719a5",
   "metadata": {},
   "source": [
    "## Actual code execution"
   ]
  },
  {
   "cell_type": "code",
   "execution_count": 12,
   "id": "2232b110-3148-44bc-9f6c-2190c62273ec",
   "metadata": {},
   "outputs": [],
   "source": [
    "G, ASOR_args, CLC_args, Cl_i_concentration = parse_user_input()"
   ]
  },
  {
   "cell_type": "code",
   "execution_count": 13,
   "id": "af62572e-4703-47e6-9c32-813e57144b72",
   "metadata": {},
   "outputs": [
    {
     "data": {
      "text/plain": [
       "{'ASOR_pH_k2': 3.0,\n",
       " 'ASOR_pH_half': 5.4,\n",
       " 'ASOR_U_k2': 80.0,\n",
       " 'ASOR_U_half': -0.04}"
      ]
     },
     "execution_count": 13,
     "metadata": {},
     "output_type": "execute_result"
    }
   ],
   "source": [
    "ASOR_args"
   ]
  },
  {
   "cell_type": "code",
   "execution_count": 180,
   "id": "827a91fe-ebac-4f76-a23b-6ea6e17e0cad",
   "metadata": {},
   "outputs": [],
   "source": [
    "X_amount, external_ions_concentrations, internal_ions_amounts, internal_ions_concentrations, Sum_initial_amounts = initialize_internal_concentrations(Cl_i_concentration)"
   ]
  },
  {
   "cell_type": "code",
   "execution_count": 181,
   "id": "358a8665-04bc-4667-999f-03d04979bd21",
   "metadata": {},
   "outputs": [],
   "source": [
    "parameters = {\n",
    "    'dt': dt,\n",
    "    'T': T,\n",
    "    'G': G,\n",
    "    'external_ions_concentrations': external_ions_concentrations,\n",
    "    'A_from_V_const': A_from_V_const,\n",
    "    'X_amount': X_amount,\n",
    "    'buffer_capacity_t0': buffer_capacity_t0, \n",
    "    'V_t0': V0, \n",
    "    'c_spec': c_spec, \n",
    "    'RT': 2578.5871, \n",
    "    'F': 96485.0,\n",
    "    'pH_i': pH_i,\n",
    "    'U0': U0,\n",
    "    'A0': A0,\n",
    "    'C0': C0,\n",
    "    'Sum_initial_amounts': Sum_initial_amounts,\n",
    "    'ASOR_pH_k2': ASOR_args['ASOR_pH_k2'],\n",
    "    'ASOR_pH_half': ASOR_args['ASOR_pH_half'],\n",
    "    'ASOR_U_k2': ASOR_args['ASOR_U_k2'],\n",
    "    'ASOR_U_half': ASOR_args['ASOR_U_half'],\n",
    "    'CLC_pH_k2': CLC_args['CLC_pH_k2'],\n",
    "    'CLC_pH_half': CLC_args['CLC_pH_half'],\n",
    "    'CLC_U_k2': CLC_args['CLC_U_k2'],\n",
    "    'CLC_U_half': CLC_args['CLC_U_half']\n",
    "   }"
   ]
  },
  {
   "cell_type": "code",
   "execution_count": 255,
   "id": "562ec94d-fa3e-4ac3-9078-3f0d7cc137d3",
   "metadata": {},
   "outputs": [],
   "source": [
    "asor_config = ASORChannelConfig()"
   ]
  },
  {
   "cell_type": "code",
   "execution_count": 250,
   "id": "4f406d2f-393d-4059-b91e-c8513d1f52be",
   "metadata": {},
   "outputs": [],
   "source": [
    "sim = Simulation()"
   ]
  },
  {
   "cell_type": "code",
   "execution_count": 252,
   "id": "c3bdf8a7-9d99-4e3a-ad1c-e7035d494938",
   "metadata": {},
   "outputs": [
    {
     "data": {
      "text/plain": [
       "{'config': <__main__.VesicleConfig at 0x7f5234478110>,\n",
       " 'init_volume': 9.202772079915702e-18,\n",
       " 'init_area': 2.1237166338267002e-11,\n",
       " 'init_capacitance': 2.1237166338267003e-13,\n",
       " 'init_charge': 8.494866535306801e-15,\n",
       " 'cl_concentration': 0.159,\n",
       " 'na_concentration': 0.15,\n",
       " 'k_concentration': 0.005,\n",
       " 'pH': 7.4,\n",
       " 'free_h_concentration': 3.981071705534969e-08,\n",
       " 'total_h_concentration': 7.962143411069938e-05,\n",
       " 'unacc_ion_amount': 3.61663937993963e-17}"
      ]
     },
     "execution_count": 252,
     "metadata": {},
     "output_type": "execute_result"
    }
   ],
   "source": [
    "sim.vesicle.__dict__"
   ]
  },
  {
   "cell_type": "code",
   "execution_count": 238,
   "id": "839f338d-90c7-43f0-9ee8-55e68beca7f1",
   "metadata": {},
   "outputs": [
    {
     "data": {
      "text/plain": [
       "0.00012619146889603859"
      ]
     },
     "execution_count": 238,
     "metadata": {},
     "output_type": "execute_result"
    }
   ],
   "source": [
    "sim.exterior.total_h_concentration"
   ]
  },
  {
   "cell_type": "code",
   "execution_count": 230,
   "id": "e74711d8-ebcf-4941-904c-f5babb8bd3a0",
   "metadata": {},
   "outputs": [],
   "source": [
    "vesicle = Vesicle()"
   ]
  },
  {
   "cell_type": "code",
   "execution_count": 222,
   "id": "71853ea8-1b47-4731-9814-f3db00102cae",
   "metadata": {},
   "outputs": [
    {
     "data": {
      "text/plain": [
       "9.202772079915702e-18"
      ]
     },
     "execution_count": 222,
     "metadata": {},
     "output_type": "execute_result"
    }
   ],
   "source": [
    "vesicle.init_volume"
   ]
  },
  {
   "cell_type": "code",
   "execution_count": 215,
   "id": "97319f4c-7c0f-421e-8d44-39037f620525",
   "metadata": {},
   "outputs": [
    {
     "data": {
      "text/plain": [
       "3.141592653589793"
      ]
     },
     "execution_count": 215,
     "metadata": {},
     "output_type": "execute_result"
    }
   ],
   "source": [
    "import math\n",
    "math.pi"
   ]
  },
  {
   "cell_type": "code",
   "execution_count": 182,
   "id": "83c24fc5-674a-4f3e-89c2-84ef4ba22909",
   "metadata": {},
   "outputs": [
    {
     "name": "stderr",
     "output_type": "stream",
     "text": [
      "100%|████████████████████████████████████████████████████████████████████████████████████████████| 999999/999999 [00:18<00:00, 53840.36it/s]"
     ]
    },
    {
     "name": "stdout",
     "output_type": "stream",
     "text": [
      "Time elapsed: 18.58290410041809\n"
     ]
    },
    {
     "name": "stderr",
     "output_type": "stream",
     "text": [
      "\n"
     ]
    }
   ],
   "source": [
    "parameters['T'] = 1000\n",
    "\n",
    "start_time = time.time()\n",
    "results = run_simulation(internal_ions_amounts, parameters) \n",
    "end_time = time.time()\n",
    "print(f'Time elapsed: {end_time - start_time}')"
   ]
  },
  {
   "cell_type": "code",
   "execution_count": 183,
   "id": "a2e2ae0d-9535-4825-919a-061eea0a8e99",
   "metadata": {},
   "outputs": [],
   "source": [
    "time_axis = np.arange(0, T, dt)\n",
    "\n",
    "t = 1\n",
    "\n",
    "ions_t = np.empty((4, len(time_axis)))\n",
    "ions_t[:, 0] = internal_ions_amounts\n",
    "\n",
    "V_t = np.empty(len(time_axis))\n",
    "V_t[0] = parameters[\"V_t0\"]\n",
    "\n",
    "G = parameters[\"G\"]\n",
    "ext_ion = parameters[\"external_ions_concentrations\"]\n",
    "A_from_V_const = parameters[\"A_from_V_const\"]\n",
    "X_amount = parameters[\"X_amount\"]\n",
    "buffer_capacity_t0 = parameters[\"buffer_capacity_t0\"]\n",
    "V_t0 = parameters[\"V_t0\"]\n",
    "c_spec = parameters[\"c_spec\"]\n",
    "RT = parameters[\"RT\"]\n",
    "F = parameters[\"F\"]\n",
    "\n",
    "dIons_dt, fluxes, deps, local_vars = compute_flows(\n",
    "            time_axis[t],\n",
    "            ions_t[:, t - 1],\n",
    "            V_t[t - 1],\n",
    "            G,\n",
    "            ext_ion,\n",
    "            A_from_V_const,\n",
    "            X_amount,\n",
    "            buffer_capacity_t0,\n",
    "            V_t0,\n",
    "            c_spec,\n",
    "            parameters[\"ASOR_pH_k2\"],\n",
    "            parameters[\"ASOR_pH_half\"],\n",
    "            parameters[\"ASOR_U_k2\"],\n",
    "            parameters[\"ASOR_U_half\"],\n",
    "            parameters[\"CLC_pH_k2\"],\n",
    "            parameters[\"CLC_pH_half\"],\n",
    "            parameters[\"CLC_U_k2\"],\n",
    "            parameters[\"CLC_U_half\"],\n",
    "        )"
   ]
  },
  {
   "cell_type": "code",
   "execution_count": 192,
   "id": "4651e4d8-6516-4f57-9853-7ef22870c48e",
   "metadata": {},
   "outputs": [],
   "source": [
    "def masha_compute_flows(\n",
    "    time_step,\n",
    "    internal_ions,\n",
    "    V,\n",
    "    G,\n",
    "    external_ions_concentrations,\n",
    "    A_from_V_const,\n",
    "    X_amount,\n",
    "    buffer_capacity_T0,\n",
    "    V_t0,\n",
    "    c_spec,\n",
    "    ASOR_pH_k2,\n",
    "    ASOR_pH_half,\n",
    "    ASOR_U_k2,\n",
    "    ASOR_U_half,\n",
    "    CLC_pH_k2,\n",
    "    CLC_pH_half,\n",
    "    CLC_U_k2,\n",
    "    CLC_U_half,\n",
    "    RT=2578.5871,\n",
    "    F=96485.0,\n",
    "):\n",
    "    \"\"\"\n",
    "    Arguments\n",
    "    =============\n",
    "    `time_step` [float]:\n",
    "        - which timestep (in seconds)\n",
    "    `internal_ions` [1D np.ndarray]:\n",
    "        -vector of internal ion amounts (in moles)\n",
    "    `external_ions_concentrations` [1D np.ndarray]:\n",
    "        -vector of external ion concentrations (in moles/l)\n",
    "    `V_t` [float]:\n",
    "        - current volume (in m3)\n",
    "    \"G\" [dict]:\n",
    "        - dictionary containing conductances (in UNITS HERE) for the following channel types:\n",
    "            - ASOR, ClC, TPC, NHE, vATPase, H leak, K channel\n",
    "    `X_amount` [float]:\n",
    "        - amount of unaccounted for ions (in moles)\n",
    "    `A_from_V_const` [float]\n",
    "        - area calculated from the volume\n",
    "    `buffer_capacity_T0` [float]:\n",
    "        - buffer capacity at initial time\n",
    "    `V_t0` [float]:\n",
    "        - initial volume (in m3)\n",
    "    `c_spec` [float]:\n",
    "        - membrane capacitance (in F/(m**2))\n",
    "    `RTdivF` [float]:\n",
    "        - RT / F\n",
    "    `ASOR_pH_k2` [float]:\n",
    "        - exponential scaling parameter of the ASOR pH dependence\n",
    "    `ASOR_pH_half` [float]:\n",
    "        - pH1/2 of ASOR activation\n",
    "    `ASOR_U_k2` [float]:\n",
    "        - exponential scaling parameter of the ASOR voltage dependence\n",
    "    `ASOR_U_half` [float]:\n",
    "        - U1/2 of ASOR activation\n",
    "    `CLC_pH_k2` [float]:\n",
    "        - exponential scaling parameter of the CLC pH dependence\n",
    "    `CLC_pH_half` [float]:\n",
    "        - pH1/2 of CLC activation\n",
    "    `CLC_U_k2` [float]:\n",
    "        - exponential scaling parameter of the CLC voltage dependence\n",
    "    `CLC_U_half` [float]:\n",
    "        - U1/2 of CLC activation\n",
    "    `RT` [float]:\n",
    "        - Gas constant x Temperature\n",
    "    `F` [float]:\n",
    "        - Faraday's constant\n",
    "\n",
    "    Returns\n",
    "    ===========\n",
    "    `dIons_dt` [1D np.ndarray]:\n",
    "        - vector of fluxes for Cl, Na, H and K ions\n",
    "    `fluxes` [dict]:\n",
    "        - dictionary containing fluxes of each ion through each ion chanel\n",
    "    `deps` [dict]:\n",
    "        - dictionary containing pH-, time- and V- dependency functions for ASOR, ClC and vATPase\n",
    "    `local_vars` [dict]:\n",
    "        - dictionary containing other macropinosme parameters: pH, membrane area, capacitance  and buffer capacity\n",
    "\n",
    "    \"\"\"\n",
    "\n",
    "    dIons_dt = np.empty(internal_ions.shape[0])\n",
    "\n",
    "    Buffer_T = buffer_capacity_T0 * (\n",
    "        V / V_t0\n",
    "    )  # Buffer capacity at the current time step\n",
    "    htotal_i = internal_ions[H_idx] / (\n",
    "        V * 1000\n",
    "    )  # Concentration (mol/l) of H (total) in MP from the amount (mol)\n",
    "\n",
    "    hfree_o = (\n",
    "        external_ions_concentrations[H_idx] * buffer_capacity_T0\n",
    "    )  # Free external H concentration (mol/l)\n",
    "    hfree_i = htotal_i * Buffer_T  # Free internal H concentration (mol/l)\n",
    "\n",
    "    A = A_from_V_const * (\n",
    "        V ** (2 / 3)\n",
    "    )  # Membrane area of the macropinosome at the current time step\n",
    "    C = A * c_spec  # Membrane capacitance\n",
    "    Q = (\n",
    "        internal_ions[Na_idx]\n",
    "        + internal_ions[K_idx]\n",
    "        + internal_ions[H_idx]\n",
    "        - internal_ions[Cl_idx]\n",
    "        + X_amount\n",
    "    ) * F  # Total charge\n",
    "    U = Q / C  # Membrane potential\n",
    "\n",
    "    cl_i = internal_ions[Cl_idx] / (V * 1000)  # Internal Cl concentration in mol/l\n",
    "    na_i = internal_ions[Na_idx] / (V * 1000)  # Internal Na concentration in mol/l\n",
    "    k_i = internal_ions[K_idx] / (V * 1000)  # Internal K concentration in mol/l\n",
    "\n",
    "    pH_local = -np.log10(hfree_i)  # pH inside of the macropinosome\n",
    "\n",
    "    RTdivF = RT / F\n",
    "\n",
    "    #Nernst potentials computed for different channels\n",
    "    # potential_asor = P.nernst_potential_Cl_asor(\n",
    "    #     U, external_ions_concentrations[Cl_idx], cl_i, RTdivF\n",
    "    # )\n",
    "    # potential_CLC = P.nernst_potential_CLC(\n",
    "    #     U, cl_i, external_ions_concentrations[Cl_idx], hfree_i, hfree_o, RT, F\n",
    "    # )\n",
    "    # n_potential_Na_TPC = P.nernst_potential_Na_K(\n",
    "    #     U, external_ions_concentrations[Na_idx], na_i, RTdivF\n",
    "    # )\n",
    "    # potential_nhe = P.potential_NHE(\n",
    "    #     external_ions_concentrations[Na_idx], na_i, hfree_i, hfree_o\n",
    "    # )\n",
    "    # potential_k = P.nernst_potential_Na_K(\n",
    "    #     U, external_ions_concentrations[K_idx], k_i, RTdivF\n",
    "    # )\n",
    "    # potential_VATPase = P.nernst_potential_VATPase(U, hfree_o, hfree_i, RTdivF)\n",
    "    # potential_H_leak = P.nernst_potential_H_leak(U, hfree_o, hfree_i, RTdivF)\n",
    "\n",
    "    # # print(potential_asor, G['ASOR'], U, pH_local, A, ASOR_pH_k2, ASOR_pH_half, ASOR_U_k2, ASOR_U_half)\n",
    "    # # print(\"Type of potential_asor:\", type(potential_asor))\n",
    "    # # print(\"Type of G['ASOR']:\", type(G['ASOR']))\n",
    "    # # print(\"Type of U:\", type(U))\n",
    "    # # print(\"Type of pH_local:\", type(pH_local))\n",
    "    # # print(\"Type of A:\", type(A))\n",
    "    # # print(\"Type of ASOR_pH_k2:\", type(ASOR_pH_k2))\n",
    "    # # print(\"Type of ASOR_pH_half:\", type(ASOR_pH_half))\n",
    "    # # print(\"Type of ASOR_U_k2:\", type(ASOR_U_k2))\n",
    "    # # print(\"Type of ASOR_U_half:\", type(ASOR_U_half))\n",
    "    # # quit()\n",
    "\n",
    "    # # Flow of chloride (d[Cl]/dt)\n",
    "    # Cl_flux_asor = i_flux.J_cl_asor(\n",
    "    #     potential_asor,\n",
    "    #     G[\"ASOR\"],\n",
    "    #     U,\n",
    "    #     pH_local,\n",
    "    #     A,\n",
    "    #     ASOR_pH_k2,\n",
    "    #     ASOR_pH_half,\n",
    "    #     ASOR_U_k2,\n",
    "    #     ASOR_U_half,\n",
    "    # )\n",
    "    # Cl_flux_CLC = i_flux.J_Cl_CLC(\n",
    "    #     potential_CLC,\n",
    "    #     G[\"CLC\"],\n",
    "    #     U,\n",
    "    #     pH_local,\n",
    "    #     A,\n",
    "    #     CLC_pH_k2,\n",
    "    #     CLC_pH_half,\n",
    "    #     CLC_U_k2,\n",
    "    #     CLC_U_half,\n",
    "    # )\n",
    "\n",
    "    # dIons_dt[Cl_idx] = Cl_flux_asor + Cl_flux_CLC\n",
    "\n",
    "    # # Flow of sodium (d[Na]/dt)\n",
    "    # na_flux_tpc = i_flux.J_na_tpc(n_potential_Na_TPC, G[\"TPC\"], A)\n",
    "    # na_flux_nhe = i_flux.J_Na_NHE(potential_nhe, G[\"NHE\"], A)\n",
    "\n",
    "    # dIons_dt[Na_idx] = na_flux_tpc + na_flux_nhe\n",
    "\n",
    "    # # Flow of protons (d[H]/dt)\n",
    "    # H_flux_CLC = i_flux.J_H_CLC(\n",
    "    #     potential_CLC,\n",
    "    #     G[\"CLC\"],\n",
    "    #     U,\n",
    "    #     pH_local,\n",
    "    #     A,\n",
    "    #     CLC_pH_k2,\n",
    "    #     CLC_pH_half,\n",
    "    #     CLC_U_k2,\n",
    "    #     CLC_U_half,\n",
    "    # )\n",
    "    # H_flux_NHE = i_flux.J_H_NHE(potential_nhe, G[\"NHE\"], A)\n",
    "    # H_flux_VATPase = i_flux.J_VATPase(potential_VATPase, G[\"vATPase\"], time_step, A)\n",
    "    # H_flux_leak = i_flux.J_H_leak(potential_H_leak, G[\"H_leak\"], A)\n",
    "\n",
    "    # dIons_dt[H_idx] = H_flux_CLC + H_flux_NHE + H_flux_VATPase + H_flux_leak\n",
    "\n",
    "    # # calculate flow of K (d[K]/dt)\n",
    "    # K_flux = i_flux.J_k(potential_k, G[\"K\"], A)\n",
    "\n",
    "    # dIons_dt[K_idx] = K_flux\n",
    "\n",
    "    # pH_dep_ASOR = dep_funct.pH_dependence_ASOR(\n",
    "    #     pH_local, pH_k2=ASOR_pH_k2, pH_half=ASOR_pH_half\n",
    "    # )\n",
    "    # v_dep_ASOR = dep_funct.v_dependence_ASOR(U, U_k2=ASOR_U_k2, U_half=ASOR_U_half)\n",
    "\n",
    "    # pH_dep_ClC = dep_funct.pH_dependence_ClC(\n",
    "    #     pH_local, pH_k2=CLC_pH_k2, pH_half=CLC_pH_half\n",
    "    # )\n",
    "    # v_dep_ClC = dep_funct.v_dependence_ClC(U, U_k2=CLC_U_k2, U_half=CLC_U_half)\n",
    "\n",
    "    # t_dep_VATPase = dep_funct.g_VATP_dependence(time_step)\n",
    "\n",
    "    # fluxes = {\n",
    "    #     \"Cl_asor\": Cl_flux_asor,\n",
    "    #     \"Cl_CLC\": Cl_flux_CLC,\n",
    "    #     \"Na_tpc\": na_flux_tpc,\n",
    "    #     \"Na_nhe\": na_flux_nhe,\n",
    "    #     \"H_CLC\": H_flux_CLC,\n",
    "    #     \"H_NHE\": H_flux_NHE,\n",
    "    #     \"H_VATPase\": H_flux_VATPase,\n",
    "    #     \"H_leak\": H_flux_leak,\n",
    "    #     \"K\": K_flux,\n",
    "    # }\n",
    "\n",
    "    # deps = {\n",
    "    #     \"pH_ASOR\": pH_dep_ASOR,\n",
    "    #     \"v_ASOR\": v_dep_ASOR,\n",
    "    #     \"pH_ClC\": pH_dep_ClC,\n",
    "    #     \"v_ClC\": v_dep_ClC,\n",
    "    #     \"t_VATPase\": t_dep_VATPase,\n",
    "    # }\n",
    "\n",
    "    # local_vars = {\"pH_local\": pH_local, \"A\": A, \"C\": C, \"Buffer_T\": Buffer_T, \"U\": U}\n",
    "\n",
    "    # return dIons_dt, fluxes, deps, local_vars"
   ]
  },
  {
   "cell_type": "code",
   "execution_count": 193,
   "id": "08a2d7fc-0044-4a1c-93f2-ac17eed8aeba",
   "metadata": {},
   "outputs": [],
   "source": [
    "def masha_flows():\n",
    "    masha_compute_flows(\n",
    "            time_axis[t],\n",
    "            ions_t[:, t - 1],\n",
    "            V_t[t - 1],\n",
    "            G,\n",
    "            ext_ion,\n",
    "            A_from_V_const,\n",
    "            X_amount,\n",
    "            buffer_capacity_t0,\n",
    "            V_t0,\n",
    "            c_spec,\n",
    "            parameters[\"ASOR_pH_k2\"],\n",
    "            parameters[\"ASOR_pH_half\"],\n",
    "            parameters[\"ASOR_U_k2\"],\n",
    "            parameters[\"ASOR_U_half\"],\n",
    "            parameters[\"CLC_pH_k2\"],\n",
    "            parameters[\"CLC_pH_half\"],\n",
    "            parameters[\"CLC_U_k2\"],\n",
    "            parameters[\"CLC_U_half\"],\n",
    "        )\n",
    "    pass"
   ]
  },
  {
   "cell_type": "code",
   "execution_count": 194,
   "id": "fc1f79c6-564c-498f-9bc9-4e21a877b8fa",
   "metadata": {},
   "outputs": [
    {
     "name": "stdout",
     "output_type": "stream",
     "text": [
      "1.79 µs ± 41.9 ns per loop (mean ± std. dev. of 7 runs, 1,000,000 loops each)\n"
     ]
    }
   ],
   "source": [
    "%timeit masha_flows()"
   ]
  },
  {
   "cell_type": "code",
   "execution_count": 119,
   "id": "ed7b4772-5ea2-4d87-a95c-2108692531c1",
   "metadata": {},
   "outputs": [],
   "source": [
    "from math import log10"
   ]
  },
  {
   "cell_type": "code",
   "execution_count": 188,
   "id": "dab50898-2b38-44a9-93c1-bb12795cd15d",
   "metadata": {},
   "outputs": [],
   "source": [
    "cl_idx = 0\n",
    "na_idx = 1\n",
    "h_idx = 2\n",
    "k_idx = 3\n",
    "\n",
    "n_ions = 4\n",
    "init_buffer_capacity = buffer_capacity_t0\n",
    "init_volume = V_t0\n",
    "\n",
    "volume2buffer_capacity_const = init_buffer_capacity / init_volume\n",
    "\n",
    "free_ext_h_concentration = ext_ion[h_idx] * init_buffer_capacity\n",
    "\n",
    "volume2area_const = (36.0 * np.pi) ** (1 / 3)\n",
    "\n",
    "ion_charges = np.asarray([-1, 1, 1, 1], dtype=np.float64)\n",
    "\n",
    "nernst_constant = RT / F\n",
    "\n",
    "def my_compute_flows(time: float = None,\n",
    "             n_ions: int = None,\n",
    "             int_ion_amounts: np.ndarray = None,\n",
    "             volume: float = None,\n",
    "             #channel_conductances: dict[str, float] = None,\n",
    "             ext_ion_concentrations: np.ndarray = None,\n",
    "             volume2area_const: float = None,\n",
    "             int_unacc_ion_amount: float = None,\n",
    "             init_buffer_capacity: float = None,\n",
    "             init_volume: float = None,\n",
    "             volume2buffer_capacity_const: float = None,\n",
    "             free_ext_h_concentration: float = free_ext_h_concentration,\n",
    "             specific_capacitance: float = None,             \n",
    "             ASOR_pH_k2: float = None,\n",
    "             ASOR_pH_half: float = None,\n",
    "             ASOR_U_k2: float = None,\n",
    "             ASOR_U_half: float = None,\n",
    "             CLC_pH_k2: float = None,\n",
    "             CLC_pH_half: float = None,\n",
    "             CLC_U_k2: float = None,\n",
    "             CLC_U_half: float = None,\n",
    "             RT: float = 2578.5871,\n",
    "             faraday_constant: float = 96485.0):\n",
    "    #int_ion_amount_grad = np.zeros(n_ions, dtype=np.float64)\n",
    "    buffer_capacity = volume2buffer_capacity_const * volume\n",
    "\n",
    "    amount2concentration_const = 1 / (volume * 1000)\n",
    "\n",
    "    area = volume2area_const * (volume ** (2/3))\n",
    "    capacitance = area * specific_capacitance\n",
    "\n",
    "    total_charge = -int_ion_amounts[0] + int_ion_amounts[1] + int_ion_amounts[2] + int_ion_amounts[3] + int_unacc_ion_amount \n",
    "\n",
    "    voltage = total_charge * capacitance\n",
    "\n",
    "    int_cl_concentration = int_ion_amounts[cl_idx] * amount2concentration_const\n",
    "    int_na_concentration = int_ion_amounts[na_idx] * amount2concentration_const\n",
    "    int_h_concentration = int_ion_amounts[h_idx] * amount2concentration_const\n",
    "    int_k_concentration = int_ion_amounts[k_idx] * amount2concentration_const\n",
    "\n",
    "    free_int_h_concentration = int_h_concentration * buffer_capacity\n",
    "\n",
    "    local_pH = -log10(free_int_h_concentration)    "
   ]
  },
  {
   "cell_type": "code",
   "execution_count": 189,
   "id": "b2dcb5c1-a2a0-4924-b566-7c794fe411aa",
   "metadata": {},
   "outputs": [],
   "source": [
    "from numba import jit"
   ]
  },
  {
   "cell_type": "code",
   "execution_count": 190,
   "id": "5672af1e-461d-4d95-9dbb-522d2b1d976c",
   "metadata": {},
   "outputs": [],
   "source": [
    "def my_flows():\n",
    "    my_compute_flows(time=time_axis[t],\n",
    "                     n_ions=n_ions,\n",
    "                     int_ion_amounts=ions_t[:, t - 1],\n",
    "                     volume=V_t[t - 1],\n",
    "                     #channel_conductances=G,\n",
    "                     ext_ion_concentrations=ext_ion,\n",
    "                     volume2area_const=A_from_V_const,\n",
    "                     int_unacc_ion_amount=X_amount,\n",
    "                     init_buffer_capacity=buffer_capacity_t0,\n",
    "                     init_volume=V_t0,\n",
    "                     volume2buffer_capacity_const=volume2buffer_capacity_const,\n",
    "                     free_ext_h_concentration=free_ext_h_concentration,\n",
    "                     specific_capacitance=c_spec,\n",
    "                     ASOR_pH_k2=parameters[\"ASOR_pH_k2\"],\n",
    "                     ASOR_pH_half=parameters[\"ASOR_pH_half\"],\n",
    "                     ASOR_U_k2=parameters[\"ASOR_U_k2\"],\n",
    "                     ASOR_U_half=parameters[\"ASOR_U_half\"],\n",
    "                     CLC_pH_k2=parameters[\"CLC_pH_k2\"],\n",
    "                     CLC_pH_half=parameters[\"CLC_pH_half\"],\n",
    "                     CLC_U_k2=parameters[\"CLC_U_k2\"],\n",
    "                     CLC_U_half=parameters[\"CLC_U_half\"],\n",
    "        )\n",
    "    pass"
   ]
  },
  {
   "cell_type": "code",
   "execution_count": 191,
   "id": "f9598d22-2c5f-48dc-9c12-40f6db481445",
   "metadata": {},
   "outputs": [
    {
     "name": "stdout",
     "output_type": "stream",
     "text": [
      "1.61 µs ± 6.51 ns per loop (mean ± std. dev. of 7 runs, 1,000,000 loops each)\n"
     ]
    }
   ],
   "source": [
    "%timeit my_flows()"
   ]
  },
  {
   "cell_type": "code",
   "execution_count": 1,
   "id": "946237de-f630-449d-a495-281fa5990558",
   "metadata": {},
   "outputs": [],
   "source": [
    "%load_ext autoreload\n",
    "%autoreload 2"
   ]
  },
  {
   "cell_type": "code",
   "execution_count": 2,
   "id": "6f313f7d-1a18-4812-934c-4063a67434b3",
   "metadata": {},
   "outputs": [],
   "source": [
    "import backend"
   ]
  },
  {
   "cell_type": "code",
   "execution_count": 3,
   "id": "038760f1-f013-4d6c-a877-3ff613654801",
   "metadata": {},
   "outputs": [],
   "source": [
    "from backend.simulation import Simulation"
   ]
  },
  {
   "cell_type": "code",
   "execution_count": 4,
   "id": "6fee925f-85fe-40d8-816f-8a34beaf8eee",
   "metadata": {},
   "outputs": [],
   "source": [
    "sim = Simulation()"
   ]
  },
  {
   "cell_type": "code",
   "execution_count": 6,
   "id": "ab80b31b-ef74-46a4-86a2-f8f7779228f9",
   "metadata": {},
   "outputs": [
    {
     "data": {
      "text/plain": [
       "{'exterior': {'cl_concentration': 0.02,\n",
       "  'na_concentration': 0.01,\n",
       "  'k_concentration': 0.14,\n",
       "  'pH': 7.2,\n",
       "  'free_h_concentration': 6.30957344480193e-08,\n",
       "  'total_h_concentration': 0.00012619146889603859},\n",
       " 'vesicle': {'cl_conc': 0.159,\n",
       "  'na_conc': 0.15,\n",
       "  'k_conc': 0.005,\n",
       "  'pH': 7.4,\n",
       "  'free_h_conc': 3.981071705534969e-08,\n",
       "  'total_h_conc': 7.962143411069938e-05,\n",
       "  'unacc_ion_amount': 3.61663937993963e-17,\n",
       "  'unacc_ion_conc': 0.003929945616965403}}"
      ]
     },
     "execution_count": 6,
     "metadata": {},
     "output_type": "execute_result"
    }
   ],
   "source": [
    "sim.make_snapshot()"
   ]
  },
  {
   "cell_type": "code",
   "execution_count": 6,
   "id": "4c45b0e5-82b4-4b9b-b7b1-bee9c7985490",
   "metadata": {},
   "outputs": [
    {
     "data": {
      "text/plain": [
       "{'config': <backend.vesicle.VesicleConfig at 0x7f968c27daf0>,\n",
       " 'init_volume': 9.202772079915702e-18,\n",
       " 'init_area': 2.1237166338267002e-11,\n",
       " 'init_capacitance': 2.1237166338267003e-13,\n",
       " 'init_charge': 8.494866535306801e-15,\n",
       " 'cl_conc': 0.159,\n",
       " 'na_conc': 0.15,\n",
       " 'k_conc': 0.005,\n",
       " 'pH': 7.4,\n",
       " 'free_h_conc': 3.981071705534969e-08,\n",
       " 'total_h_conc': 7.962143411069938e-05,\n",
       " 'unacc_ion_amount': 3.61663937993963e-17,\n",
       " 'unacc_ion_conc': 0.003929945616965403}"
      ]
     },
     "execution_count": 6,
     "metadata": {},
     "output_type": "execute_result"
    }
   ],
   "source": [
    "sim.vesicle.__dict__"
   ]
  }
 ],
 "metadata": {
  "kernelspec": {
   "display_name": "Python 3 (ipykernel)",
   "language": "python",
   "name": "python3"
  },
  "language_info": {
   "codemirror_mode": {
    "name": "ipython",
    "version": 3
   },
   "file_extension": ".py",
   "mimetype": "text/x-python",
   "name": "python",
   "nbconvert_exporter": "python",
   "pygments_lexer": "ipython3",
   "version": "3.12.4"
  }
 },
 "nbformat": 4,
 "nbformat_minor": 5
}
