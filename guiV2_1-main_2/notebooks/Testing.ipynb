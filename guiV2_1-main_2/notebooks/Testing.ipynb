{
 "cells": [
  {
   "cell_type": "code",
   "execution_count": 39,
   "id": "2a502016-a7fe-45fa-843b-fbf5a00de94d",
   "metadata": {},
   "outputs": [
    {
     "name": "stdout",
     "output_type": "stream",
     "text": [
      "The autoreload extension is already loaded. To reload it, use:\n",
      "  %reload_ext autoreload\n"
     ]
    }
   ],
   "source": [
    "import sys\n",
    "import os\n",
    "\n",
    "# Add the path to the parent directory of `src` to the sys.path\n",
    "sys.path.append(os.path.abspath('C:\\\\Away\\\\FMP\\\\New\\\\guiV2_1-main_2\\\\src'))\n",
    "\n",
    "%load_ext autoreload\n",
    "%autoreload 2\n",
    "\n",
    "# Importing the backend package\n",
    "from backend.backend.snapshotable import Snapshotable\n",
    "from backend.backend.vesicle import VesicleConfig, Vesicle\n",
    "from backend.backend.exterior import ExteriorConfig, Exterior\n",
    "from backend.backend.ion_channels import IonChannelConfig, IonChannel"
   ]
  },
  {
   "cell_type": "code",
   "execution_count": 3,
   "id": "735a8286-5764-43b2-b8f3-5d9479459226",
   "metadata": {},
   "outputs": [
    {
     "name": "stdout",
     "output_type": "stream",
     "text": [
      "{'a': 1, 'b': 2, 'nested': {'a': 3, 'b': 4, 'nested': 'not nested'}}\n"
     ]
    }
   ],
   "source": [
    "class MyClass(Snapshotable):\n",
    "    FIELDS_TO_SNAPSHOT = ('a', 'b', 'nested')\n",
    "\n",
    "    def __init__(self, a, b, nested=None):\n",
    "        self.a = a\n",
    "        self.b = b\n",
    "        self.nested = nested\n",
    "\n",
    "# Create an instance of MyClass\n",
    "nested_instance = MyClass(3, 4, 'not nested')\n",
    "my_instance = MyClass(1, 2, nested_instance)\n",
    "\n",
    "# Create a snapshot\n",
    "snapshot = my_instance.make_snapshot()\n",
    "print(snapshot)"
   ]
  },
  {
   "cell_type": "code",
   "execution_count": 57,
   "id": "c68375d1-c690-418f-bea6-8dcdcf9d97a7",
   "metadata": {},
   "outputs": [
    {
     "name": "stdout",
     "output_type": "stream",
     "text": [
      "{'specific_capacitance': 0.01, 'init_voltage': 0.04, 'init_radius': 1.3e-06, 'init_cl_conc_type': 'high', 'init_na_conc': 0.15, 'init_k_conc': 0.005, 'init_pH': 7.4}\n",
      "{'config': <backend.backend.vesicle.VesicleConfig object at 0x0000029C42DF7470>, 'init_volume': 9.202772079915702e-18, 'init_area': 2.1237166338267002e-11, 'init_capacitance': 2.1237166338267003e-13, 'init_charge': 8.494866535306801e-15, 'cl_conc': 0.159, 'na_conc': 0.15, 'k_conc': 0.005, 'pH': 7.4, 'free_h_conc': 3.981071705534969e-08, 'total_h_conc': 7.962143411069938e-05, 'unacc_ion_amount': 3.61663937993963e-17, 'unacc_ion_conc': 0.003929945616965403}\n",
      "{'cl_conc': 0.159, 'na_conc': 0.15, 'k_conc': 0.005, 'pH': 7.4, 'free_h_conc': 3.981071705534969e-08, 'total_h_conc': 7.962143411069938e-05, 'unacc_ion_amount': 3.61663937993963e-17, 'unacc_ion_conc': 0.003929945616965403}\n",
      "high\n",
      "low\n"
     ]
    }
   ],
   "source": [
    "# Vesicle Config and Vesicle tests\n",
    "\n",
    "v_config = VesicleConfig()\n",
    "print(v_config.__dict__)\n",
    "\n",
    "ves = Vesicle(config=v_config, init_buffer_capacity=5e-4)\n",
    "print(ves.__dict__)\n",
    "snapshot = ves.make_snapshot()\n",
    "print(snapshot)\n",
    "\n",
    "print(v_config.init_cl_conc_type)\n",
    "\n",
    "v_config2 = VesicleConfig(init_cl_conc_type='low')\n",
    "print(v_config2.init_cl_conc_type)"
   ]
  },
  {
   "cell_type": "code",
   "execution_count": 28,
   "id": "ff789577-3d7c-4364-b99c-66010e9d744b",
   "metadata": {},
   "outputs": [
    {
     "name": "stdout",
     "output_type": "stream",
     "text": [
      "{'cl_concentration': 0.02, 'na_concentration': 0.01, 'k_concentration': 0.14, 'pH': 7.2}\n",
      "{'config': <backend.backend.exterior.ExteriorConfig object at 0x0000029C42D839E0>, 'cl_concentration': 0.02, 'na_concentration': 0.01, 'k_concentration': 0.14, 'pH': 7.2, 'free_h_concentration': 6.30957344480193e-08, 'total_h_concentration': 0.00012619146889603859}\n",
      "{'cl_concentration': 0.02, 'na_concentration': 0.01, 'k_concentration': 0.14, 'pH': 7.2, 'free_h_concentration': 6.30957344480193e-08, 'total_h_concentration': 0.00012619146889603859}\n"
     ]
    }
   ],
   "source": [
    "# Exterior Config and Exterior tests\n",
    "\n",
    "ext_config = ExteriorConfig()\n",
    "print(ext_config.__dict__)\n",
    "\n",
    "\n",
    "ext = Exterior(config=ext_config, init_buffer_capacity=5e-4)\n",
    "print(ext.__dict__)\n",
    "snapshot = ext.make_snapshot()\n",
    "print(snapshot)"
   ]
  },
  {
   "cell_type": "code",
   "execution_count": 53,
   "id": "8ae68497-968a-4d02-ada3-60018885d566",
   "metadata": {},
   "outputs": [
    {
     "name": "stdout",
     "output_type": "stream",
     "text": [
      "{'conductance': 8e-05}\n",
      "{'flux': None, 'nernst_potential': None}\n"
     ]
    },
    {
     "data": {
      "text/plain": [
       "{'config': <backend.backend.ion_channels.IonChannelConfig at 0x29c42df7e00>,\n",
       " 'conductance': 8e-05,\n",
       " 'nernst_constant': None,\n",
       " 'flux': None,\n",
       " 'nernst_potential': None}"
      ]
     },
     "execution_count": 53,
     "metadata": {},
     "output_type": "execute_result"
    }
   ],
   "source": [
    "# IonChannels tests\n",
    "\n",
    "ion_config = IonChannelConfig(conductance=8e-5)\n",
    "\n",
    "snapshot = ion_config.make_snapshot()\n",
    "print(snapshot)\n",
    "\n",
    "ion_channel = IonChannel(config=ion_config)\n",
    "snapshot2 = ion_channel.make_snapshot()\n",
    "print(snapshot2)\n",
    "\n",
    "ion_channel.__dict__"
   ]
  }
 ],
 "metadata": {
  "kernelspec": {
   "display_name": "Python 3 (ipykernel)",
   "language": "python",
   "name": "python3"
  },
  "language_info": {
   "codemirror_mode": {
    "name": "ipython",
    "version": 3
   },
   "file_extension": ".py",
   "mimetype": "text/x-python",
   "name": "python",
   "nbconvert_exporter": "python",
   "pygments_lexer": "ipython3",
   "version": "3.12.4"
  }
 },
 "nbformat": 4,
 "nbformat_minor": 5
}
