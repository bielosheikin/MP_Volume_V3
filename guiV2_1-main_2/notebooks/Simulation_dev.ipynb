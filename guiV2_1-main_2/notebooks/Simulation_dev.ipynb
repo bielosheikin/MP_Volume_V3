{
 "cells": [
  {
   "cell_type": "code",
   "execution_count": 3,
   "id": "a8e24cde-5cca-4180-a2c9-d20ca6b52633",
   "metadata": {},
   "outputs": [
    {
     "name": "stdout",
     "output_type": "stream",
     "text": [
      "The autoreload extension is already loaded. To reload it, use:\n",
      "  %reload_ext autoreload\n"
     ]
    }
   ],
   "source": [
    "import sys\n",
    "import os\n",
    "\n",
    "# Add the path to the parent directory of `src` to the sys.path\n",
    "sys.path.append(os.path.abspath('C:\\\\Away\\\\FMP\\\\New\\\\guiV2_1-main_2\\\\src'))\n",
    "\n",
    "%load_ext autoreload\n",
    "%autoreload 2\n",
    "\n",
    "# Importing the backend package\n",
    "\n",
    "# from backend.backend.snapshotable import Snapshotable\n",
    "from backend.backend.vesicle import VesicleConfig, Vesicle\n",
    "from backend.backend.exterior import ExteriorConfig, Exterior\n",
    "from backend.backend.ion_channels import (IonChannelConfig, \n",
    "                                          IonChannel, \n",
    "                                          ASORChannelConfig, \n",
    "                                          ASORChannel, \n",
    "                                          CLCChannelConfig, \n",
    "                                          CLCChannel, \n",
    "                                          TPCChannelConfig, \n",
    "                                          TPCChannel, \n",
    "                                          NHEChannelConfig, \n",
    "                                          NHEChannel, \n",
    "                                          VATPaseChannelConfig, \n",
    "                                          VATPaseChannel,\n",
    "                                          HLeakChannelConfig,\n",
    "                                          HLeakChannel,\n",
    "                                          KChannelConfig,\n",
    "                                          KChannel\n",
    "                                        )\n",
    "from backend.backend.simulation import SimulationConfig, Simulation\n",
    "from backend.backend.ion_species import IonSpecies\n",
    "\n",
    "import numpy as np\n",
    "from math import exp, log"
   ]
  },
  {
   "cell_type": "code",
   "execution_count": null,
   "id": "b729ea75-bc9b-4f60-b7af-cb70ec25c7f7",
   "metadata": {},
   "outputs": [],
   "source": []
  }
 ],
 "metadata": {
  "kernelspec": {
   "display_name": "Python 3 (ipykernel)",
   "language": "python",
   "name": "python3"
  },
  "language_info": {
   "codemirror_mode": {
    "name": "ipython",
    "version": 3
   },
   "file_extension": ".py",
   "mimetype": "text/x-python",
   "name": "python",
   "nbconvert_exporter": "python",
   "pygments_lexer": "ipython3",
   "version": "3.12.4"
  }
 },
 "nbformat": 4,
 "nbformat_minor": 5
}
